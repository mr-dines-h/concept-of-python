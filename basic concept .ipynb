{
 "cells": [
  {
   "cell_type": "code",
   "execution_count": null,
   "id": "1290b572",
   "metadata": {},
   "outputs": [],
   "source": [
    "#BASIC CONCEPT OF PYTHON \n",
    "\n",
    "#variables\n",
    "#Numbers\n",
    "#Strings\n",
    "#Lists\n",
    "#if statement \n",
    "#For loop\n",
    "#Functions\n",
    "#Dictionarys\n",
    "#Tuple\n",
    "#install python module\n",
    "#modules\n",
    "#JSON\n",
    "#Reading,Writing files\n",
    "#if_name_==\"_main_\"\n",
    "#Exception handling\n"
   ]
  },
  {
   "cell_type": "code",
   "execution_count": 1,
   "id": "482103de",
   "metadata": {
    "scrolled": true
   },
   "outputs": [
    {
     "name": "stdout",
     "output_type": "stream",
     "text": [
      "10\n",
      "660\n",
      "-580\n",
      "3840000\n"
     ]
    }
   ],
   "source": [
    "#variables(What is)\n",
    "\n",
    "#A Python variable is a symbolic name that is a reference or pointer to an object. \n",
    "#Once an object is assigned to a variable, you can refer to the object by that name.\n",
    "\n",
    "#numbers\n",
    "\n",
    "n = 10                                      # n (variable) call that variable to print statement\n",
    "print(n)\n",
    "\n",
    "#Ex:\n",
    "\n",
    "milk = 40                                    # milk (variable)\n",
    "Sweets = 300                                 # Sweets (variable)\n",
    "cake = 320                                   # cake (variable)\n",
    "\n",
    "\n",
    "total_price_amount_add             = milk + Sweets + cake   # add that variables (addition)\n",
    "total_price_amount_subtract        = milk - Sweets - cake   # subtract \n",
    "total_price_amount_multiplication  = milk * Sweets * cake   # Multiplication \n",
    "\n",
    "print(total_price_amount_add)\n",
    "print(total_price_amount_subtract)\n",
    "print(total_price_amount_multiplication)\n",
    "\n",
    "#Output\n",
    "\n",
    "# print(n)\n",
    "# print(total_price_amount_add)\n",
    "# print(total_price_amount_subtract)\n",
    "# print(total_price_amount_multiplication)"
   ]
  },
  {
   "cell_type": "code",
   "execution_count": 2,
   "id": "de94b144",
   "metadata": {},
   "outputs": [
    {
     "name": "stdout",
     "output_type": "stream",
     "text": [
      " Hello World!\n"
     ]
    }
   ],
   "source": [
    "# print(what is)\n",
    "\n",
    "#print statement are used to print or displaying that value in user interface.\n",
    "\n",
    "#Ex:\n",
    "x = \" Hello World!\" \n",
    "print(x)            # you see that x-variable to assume that value(Hello World!), print- print that variable(x)  "
   ]
  },
  {
   "cell_type": "code",
   "execution_count": 21,
   "id": "bc4afe00",
   "metadata": {},
   "outputs": [
    {
     "name": "stdout",
     "output_type": "stream",
     "text": [
      "40\n",
      "10\n",
      "1000\n",
      "0.25\n",
      "1\n",
      "400\n",
      "900\n",
      "13.846153846153847\n",
      "52.55\n"
     ]
    }
   ],
   "source": [
    "# numbers\n",
    "\n",
    "# Note: I give variable names are (x,y,a,b,c,d,m,n) \n",
    "# but isn't standard foment, \n",
    "# so you assume that variable names are any you like(Rajini,kamal,Surya,Vijay etc.. any name or letters)\n",
    "# but good programer not assume that(which problem you solve that like same as that name to assume the variables)\n",
    "\n",
    "#(add)\n",
    "x = 10\n",
    "y = 30\n",
    "print(x+y)   # Output(40)\n",
    "\n",
    "#(subtract)\n",
    "a = 100\n",
    "b = 90\n",
    "print(a-b)   # Output(10)\n",
    "\n",
    "#(multiplication)\n",
    "c =  20\n",
    "d = 50\n",
    "print(c*d)   # Output(1000)  \n",
    "\n",
    "#(Division)\n",
    "m = 1\n",
    "n = 4\n",
    "print(m/n)   # Output(0.25)\n",
    "\n",
    "#(remainder)\n",
    "k=1\n",
    "h=4\n",
    "print(k % h) # Output(1)\n",
    "\n",
    "#(square)\n",
    "a = 20\n",
    "print(a**2) # Output(400)  \n",
    "\n",
    "#Find that distance(d) (chennai-Trichy to Trichy-Bangalore) \n",
    "\n",
    "chennai_trichy = 300 #(km)\n",
    "trichy_bangalore = 600 #(km)\n",
    "\n",
    "total_distance = chennai_trichy+ trichy_bangalore\n",
    "print(total_distance)  # Output(900)\n",
    "\n",
    "# Calculate (Time)\n",
    "\n",
    "# formula\n",
    "# time = Distance / speed\n",
    "\n",
    "distances = 900 #(km)\n",
    "speed = 65  #(km)\n",
    "\n",
    "time = distances / speed\n",
    "print(time)           # Output(13.8461538461...)\n",
    "\n",
    "round(time,3)# print decimal point(3) #Output 13.846\n",
    "round(time,2)# print decimal point(2) #Outpput 13.85\n",
    "\n",
    "#ex:\n",
    "\n",
    "print((10+2)*3+10+2*3+6-5.7+1/4)    # Output (52.55)\n",
    "\n",
    "#Steps\n",
    "\n",
    "#(10+2)\n",
    "#12*3\n",
    "#36+10\n",
    "#46+(2*3)\n",
    "#52+(6-5.7)\n",
    "#52.3+(1/4)\n",
    "#52.55\n",
    "\n",
    "\n"
   ]
  },
  {
   "cell_type": "code",
   "execution_count": 31,
   "id": "582c66fa",
   "metadata": {},
   "outputs": [
    {
     "name": "stdout",
     "output_type": "stream",
     "text": [
      "hello world\n",
      "Ice cream\n",
      "I\n",
      "c\n",
      "e\n",
      " \n",
      "c\n",
      "r\n",
      "e\n",
      "a\n",
      "m\n",
      "Ice\n",
      "cream\n",
      " Hello world \n",
      " Hello world! \n",
      " Hello World!! This new one \n"
     ]
    }
   ],
   "source": [
    "# String\n",
    "\n",
    "#In Python, string is an immutable sequence data type. \n",
    "#It is the sequence of Unicode characters wrapped inside single, double, or triple quotes.(' ') (\" \") \n",
    "#If a string literal required to embed double quotes as part of a string then, it should be put in single quotes.\n",
    "\n",
    "#Ex:\n",
    "\n",
    "s1=\"hello\"\n",
    "s2=\"world!!\"\n",
    "print(s1+\" \"+s2)      #Output(hello world!!)\n",
    "\n",
    "###################################################################\n",
    " \n",
    "Like = \"Ice cream\"\n",
    "print(Like)           #Output(Ice cream)\n",
    "                                                    #store that single letter in index(0,1,2,3,4,5,6,7,8)\n",
    "print(Like[0])        # Output (I)                                 \n",
    "print(Like[1])        # Output (c)\n",
    "print(Like[2])        # Output (e)\n",
    "print(Like[3])        # Output (space)\n",
    "print(Like[4])        # Output (c)\n",
    "print(Like[5])        # Output (r)\n",
    "print(Like[6])        # Output (e)\n",
    "print(Like[7])        # Output (a)\n",
    "print(Like[8])        # Output (m)\n",
    "\n",
    "print(Like[0:3])      # Output (ice)\n",
    "print(Like[4:9])      # Output (cream)\n",
    "\n",
    "#####################################################################\n",
    "\n",
    "#single,double,triple, quota(' ')\n",
    "\n",
    "new_single = ' Hello world '\n",
    "\n",
    "new_double = \" Hello world! \"\n",
    "\n",
    "new_triple = ''' Hello World!! This new one '''\n",
    "\n",
    "print(new_single)     # Output(Hello world)\n",
    "print(new_double)     # Output(Hello world!)\n",
    "print(new_triple)     # Output( Hello World!! This new one)\n",
    "\n",
    "\n",
    "\n",
    "\n"
   ]
  },
  {
   "cell_type": "code",
   "execution_count": 38,
   "id": "576e91bf",
   "metadata": {},
   "outputs": [
    {
     "name": "stdout",
     "output_type": "stream",
     "text": [
      "['apple', 'orange', 'papayas']\n",
      "apple\n",
      "orange\n",
      "papayas\n",
      "['Mango', 'orange', 'papayas']\n",
      "papayas\n",
      "['Mango', 'orange', 'papayas', 'bananas']\n",
      "4\n"
     ]
    }
   ],
   "source": [
    "#Lists(what is)\n",
    "\n",
    "# A list is a data structure in Python that is a mutable, or changeable, ordered sequence of elements. \n",
    "# Each element or value that is inside of a list is called an item. \n",
    "# Just as strings are defined as characters between quotes, lists are defined by having values between square brackets [ ] .\n",
    "\n",
    "# Lists   (find list of values)\n",
    "# append  (include values)\n",
    "# insert  (insert any value)\n",
    "# len     (length of list values)\n",
    "\n",
    "items = [\"apple\",\"orange\",\"papayas\"]\n",
    "print(items)        # Output(['apple', 'orange', 'papayas'])\n",
    "\n",
    "print(items[0])     # Output(apple)\n",
    "print(items[1])     # Output(orange)\n",
    "print(items[2])     # Output(papayas)\n",
    "\n",
    "# instead or replace in apple to mango index[0]\n",
    "\n",
    "items[0] = \"Mango\"\n",
    "print(items)         # Outpput(['Mango', 'orange', 'papayas']) \n",
    "\n",
    "print(items[-1])     # Output(papayas)\n",
    "\n",
    "# include new one in the list, use this(append)\n",
    "\n",
    "items.append(\"bananas\")\n",
    "print(items)         # Output(['Mango', 'orange', 'papayas', 'bananas'])\n",
    "\n",
    "#find out lenth that element\n",
    "\n",
    "print(len(items))    # Output(4) len means length \n",
    "\n"
   ]
  },
  {
   "cell_type": "code",
   "execution_count": 8,
   "id": "32ad4539",
   "metadata": {},
   "outputs": [
    {
     "name": "stdout",
     "output_type": "stream",
     "text": [
      "Enter a number: 6\n",
      "That is even number\n",
      "5 its bigger\n"
     ]
    }
   ],
   "source": [
    "# if (statement)\n",
    "\n",
    "#An if else Python statement evaluates whether an expression is true or false. If a condition is true, \n",
    "#the “if” statement executes. Otherwise, \n",
    "#the “else” statement executes. Python if else statements help coders control the flow of their programs\n",
    "\n",
    "# Find out ODD and EVEN numbers\n",
    "\n",
    "even = input(\"Enter a number: \")\n",
    "evenfunction = int(even)\n",
    "\n",
    "if evenfunction%2==0:\n",
    "    print(\"That is even number\")\n",
    "else:\n",
    "    print(\"sorry that is add number\")\n",
    "    \n",
    "#########################################################\n",
    "\n",
    "if 3<5 or 5>3:\n",
    "    print(\"5 its bigger\")\n",
    "else:\n",
    "    print(\"sorry\")\n",
    "    \n",
    "\n"
   ]
  },
  {
   "cell_type": "code",
   "execution_count": 10,
   "id": "3aae109a",
   "metadata": {},
   "outputs": [
    {
     "name": "stdout",
     "output_type": "stream",
     "text": [
      "Enter dish name:samosa\n",
      "indian dish\n"
     ]
    }
   ],
   "source": [
    "#if (statement)\n",
    "\n",
    "#EX:\n",
    "\n",
    "indian=[\"samosa\",\"daal\",\"naan\"]\n",
    "chinese=[\"egg role\",\"pot sticker\",\"fried rice\"]\n",
    "italian=[\"pizza\",\"pasta\",\"risotto\"]\n",
    "\n",
    "dish=input(\"Enter dish name:\")\n",
    "\n",
    "if dish in indian:\n",
    "    print(\"indian dish\")\n",
    "elif dish in chinese:\n",
    "    print(\"Chinese dish\")\n",
    "elif dish in italian:\n",
    "    print(\"italian dish\")\n",
    "else:\n",
    "    print(\"Sorry dish not available\")"
   ]
  },
  {
   "cell_type": "code",
   "execution_count": 4,
   "id": "a7355c21",
   "metadata": {},
   "outputs": [
    {
     "name": "stdout",
     "output_type": "stream",
     "text": [
      "13600\n",
      "0\n",
      "1\n",
      "2\n",
      "3\n",
      "4\n",
      "5\n",
      "6\n",
      "7\n",
      "8\n",
      "9\n",
      "10\n",
      "11\n",
      "12\n",
      "13\n",
      "14\n",
      "15\n",
      "16\n",
      "17\n",
      "18\n",
      "19\n"
     ]
    }
   ],
   "source": [
    "#for loop statement\n",
    "\n",
    "#A for loop in Python is a control flow statement \n",
    "#that is used to repeatedly execute a group of statements as long as the condition is satisfied. \n",
    "#Such a type of statement is also known as an iterative statement.\n",
    "\n",
    "exp = [2000,2500,2100,3000,4000]\n",
    "total = 0\n",
    "for item in exp:\n",
    "    total = total + item\n",
    "print(total)\n",
    "\n",
    "######################################\n",
    "# print limit range\n",
    "\n",
    "for i in range(0,20): #print value from the limit (0 to 29)  \n",
    "    print(i)\n",
    "    "
   ]
  },
  {
   "cell_type": "code",
   "execution_count": 70,
   "id": "40e6ac82",
   "metadata": {},
   "outputs": [
    {
     "name": "stdout",
     "output_type": "stream",
     "text": [
      "Total: 11\n",
      "joy total expenses: 6000\n",
      "brock total expenses: 1600\n"
     ]
    }
   ],
   "source": [
    "#function\n",
    "\n",
    "#In computer programming, a function is a named section of a code that performs a specific task. \n",
    "#This typically involves taking some input, manipulating the input and returning an output\n",
    "# function is a block of code that performs a specific task\n",
    "\n",
    "#when the value passing through the sum(a,b) parameter, \n",
    "#when the total equal to add just (a+b) then store that values in total variable and return that.\n",
    "# at same time when the values of toal store that n variable so that print n, we get answer.\n",
    "\n",
    "def sum(a,b):\n",
    "    total=a+b\n",
    "    return total\n",
    "\n",
    "n = sum(5,6)\n",
    "print(\"Total:\",n)\n",
    "\n",
    "\n",
    "\n",
    "########################################################################################\n",
    "\n",
    "#calculate monthly expensive:\n",
    "\n",
    "def calculate_total(monthly_expensive):                      #(monthly_expensive)- function arguments\n",
    "    total = 0\n",
    "    for item in monthly_expensive:\n",
    "        total = total + item\n",
    "    return total                                             #return total - return value\n",
    "\n",
    "\n",
    "joy_monthly_expensive = [1100,2400,2500]\n",
    "brock_monthly_expensive = [200,500,900]\n",
    " \n",
    "joy_total_monthly_expensive = calculate_total(joy_monthly_expensive)\n",
    "brock_total_monthly_expensive = calculate_total(brock_monthly_expensive)\n",
    "\n",
    "print(\"joy total expenses:\",joy_total_monthly_expensive)\n",
    "print(\"brock total expenses:\",brock_total_monthly_expensive)\n"
   ]
  },
  {
   "cell_type": "code",
   "execution_count": 100,
   "id": "6eb14897",
   "metadata": {},
   "outputs": [
    {
     "name": "stdout",
     "output_type": "stream",
     "text": [
      "{'joy': 9867544321, 'tom': 9234657812, 'strange': 9522435454}\n",
      "{'joy': 9867544321, 'tom': 9234657812, 'strange': 9522435454, 'sam': 8764324474}\n",
      "{'joy': 9867544321, 'strange': 9522435454, 'sam': 8764324474}\n",
      "{}\n",
      "{1: 'tom', 2: 'For', 3: {'A': 'Welcome', 'B': 'To', 'C': 'tom'}}\n"
     ]
    }
   ],
   "source": [
    "#Dictionary \n",
    "\n",
    "#Dictionary in Python is an unordered collection of data values, used to store data values like a map, \n",
    "#which, unlike other Data Types that hold only a single value as an element, Dictionary holds key:value pair.\n",
    "#Note – Keys in a dictionary don't allow Polymorphism.\n",
    "\n",
    "\n",
    "#Dictionary allows you to store key,value pairs.\n",
    "\n",
    "d = {\"joy\": 9867544321, \"tom\": 9234657812, \"strange\": 9522435454}\n",
    "print(d)\n",
    "\n",
    "d[\"sam\"] = 8764324474\n",
    "print(d)\n",
    "\n",
    "del d[\"tom\"]\n",
    "print(d)\n",
    "\n",
    "d.clear()\n",
    "print(d)\n",
    "\n",
    "\"joy\" in d\n",
    "\n",
    "#################################################################\n",
    "\n",
    "# Creating a Nested Dictionary\n",
    "# as shown in the below image\n",
    "Dict = {1: 'tom', 2: 'For',\n",
    "\t\t3:{'A' : 'Welcome', 'B' : 'To', 'C' : 'tom'}}\n",
    "\n",
    "print(Dict)\n",
    "\n",
    "\n"
   ]
  },
  {
   "cell_type": "code",
   "execution_count": 99,
   "id": "14f62f15",
   "metadata": {},
   "outputs": [
    {
     "name": "stdout",
     "output_type": "stream",
     "text": [
      "()\n",
      "('python', 'tom')\n",
      "('python', 'tom')\n",
      "2\n",
      "(0, 1, 2)\n",
      "('p', 'y', 't', 'h', 'o', 'n')\n"
     ]
    }
   ],
   "source": [
    "#tuples \n",
    "\n",
    "#A Tuple is a collection of Python objects separated by commas. \n",
    "#In someways a tuple is similar to a list in terms of indexing, \n",
    "#nested objects and repetition but a tuple is immutable unlike lists which are mutable. Creating Tuples.\n",
    "# Tuple is a list of values grouped together\n",
    "\n",
    "#different between list and tuple\n",
    "#list  - All values have similar meaning (Homogeneous)\n",
    "#Tuple - All values have different meaning (heterogeneous)\n",
    "\n",
    "# An empty tuple\n",
    "empty_tuple = ()\n",
    "print (empty_tuple)\n",
    "\n",
    "#########################################\n",
    "\n",
    "# Creating non-empty tuples\n",
    "\n",
    "# One way of creation\n",
    "tup = 'python', 'tom'\n",
    "print(tup)\n",
    "\n",
    "# Another for doing the same\n",
    "tup = ('python', 'tom')\n",
    "print(tup)\n",
    "\n",
    "##########################################\n",
    "\n",
    "\n",
    "# Code for printing the length of a tuple\n",
    "\n",
    "tuple2 = ('python', 'tom')\n",
    "print(len(tuple2))\n",
    "\n",
    "################################################\n",
    "\n",
    "# Code for converting a list and a string into a tuple\n",
    "\n",
    "list1 = [0, 1, 2]\n",
    "print(tuple(list1))\n",
    "print(tuple('python')) # string 'python'\n",
    "\n",
    "\n"
   ]
  },
  {
   "cell_type": "code",
   "execution_count": 86,
   "id": "03cfa7c5",
   "metadata": {},
   "outputs": [
    {
     "name": "stdout",
     "output_type": "stream",
     "text": [
      "{\"joy\": {\"name\": \"joy\", \"address\": \"1 yellow street 123, NY\", \"phone\": 9764421357}, \"tom\": {\"name\": \"tom\", \"address\": \"1 black street 123, NY\", \"phone\": 98765534}}\n"
     ]
    }
   ],
   "source": [
    "#JSON - java script object notation\n",
    "# JSON is a data exchange format similar to XML\n",
    "\n",
    "import json\n",
    "\n",
    "book = {}\n",
    "book['joy'] = {\n",
    "    'name': 'joy',\n",
    "    'address': '1 yellow street 123, NY',\n",
    "    'phone': 9764421357\n",
    "}\n",
    "book['tom'] = {\n",
    "    'name': 'tom',\n",
    "    'address': '1 black street 123, NY',\n",
    "    'phone': 98765534\n",
    "}\n",
    "\n",
    "s = json.dumps(book)\n",
    "print(s)"
   ]
  },
  {
   "cell_type": "code",
   "execution_count": 92,
   "id": "727fa24a",
   "metadata": {},
   "outputs": [
    {
     "ename": "NameError",
     "evalue": "name '_name_' is not defined",
     "output_type": "error",
     "traceback": [
      "\u001b[1;31m---------------------------------------------------------------------------\u001b[0m",
      "\u001b[1;31mNameError\u001b[0m                                 Traceback (most recent call last)",
      "\u001b[1;32m<ipython-input-92-7932fac5fe10>\u001b[0m in \u001b[0;36m<module>\u001b[1;34m\u001b[0m\n\u001b[0;32m      2\u001b[0m \u001b[1;33m\u001b[0m\u001b[0m\n\u001b[0;32m      3\u001b[0m \u001b[1;33m\u001b[0m\u001b[0m\n\u001b[1;32m----> 4\u001b[1;33m \u001b[1;32mif\u001b[0m \u001b[0m_name_\u001b[0m\u001b[1;33m==\u001b[0m \u001b[1;34m\"_main_\"\u001b[0m\u001b[1;33m:\u001b[0m\u001b[1;33m\u001b[0m\u001b[1;33m\u001b[0m\u001b[0m\n\u001b[0m\u001b[0;32m      5\u001b[0m     \u001b[0ma\u001b[0m\u001b[1;33m=\u001b[0m\u001b[0mcalculate_area\u001b[0m\u001b[1;33m(\u001b[0m\u001b[1;36m10\u001b[0m\u001b[1;33m,\u001b[0m\u001b[1;36m20\u001b[0m\u001b[1;33m)\u001b[0m\u001b[1;33m\u001b[0m\u001b[1;33m\u001b[0m\u001b[0m\n\u001b[0;32m      6\u001b[0m     \u001b[0mprint\u001b[0m\u001b[1;33m(\u001b[0m\u001b[1;34m\"area:\"\u001b[0m\u001b[1;33m,\u001b[0m \u001b[0ma\u001b[0m\u001b[1;33m)\u001b[0m\u001b[1;33m\u001b[0m\u001b[1;33m\u001b[0m\u001b[0m\n",
      "\u001b[1;31mNameError\u001b[0m: name '_name_' is not defined"
     ]
    }
   ],
   "source": [
    "#if _name_== \"_main_\":(search it google when clearly explain that)\n",
    "\n",
    "\n",
    "if _name_== \"_main_\":\n",
    "    a=calculate_area(10,20)\n",
    "    print(\"area:\", a)"
   ]
  },
  {
   "cell_type": "code",
   "execution_count": 3,
   "id": "65449169",
   "metadata": {},
   "outputs": [
    {
     "name": "stdout",
     "output_type": "stream",
     "text": [
      "Enter a:10\n",
      "Enter b:0\n"
     ]
    },
    {
     "ename": "ZeroDivisionError",
     "evalue": "division by zero",
     "output_type": "error",
     "traceback": [
      "\u001b[1;31m---------------------------------------------------------------------------\u001b[0m",
      "\u001b[1;31mZeroDivisionError\u001b[0m                         Traceback (most recent call last)",
      "\u001b[1;32m<ipython-input-3-687dbcdbc7be>\u001b[0m in \u001b[0;36m<module>\u001b[1;34m\u001b[0m\n\u001b[0;32m     11\u001b[0m \u001b[0ma\u001b[0m \u001b[1;33m=\u001b[0m \u001b[0mint\u001b[0m\u001b[1;33m(\u001b[0m\u001b[0minput\u001b[0m\u001b[1;33m(\u001b[0m\u001b[1;34m\"Enter a:\"\u001b[0m\u001b[1;33m)\u001b[0m\u001b[1;33m)\u001b[0m\u001b[1;33m\u001b[0m\u001b[1;33m\u001b[0m\u001b[0m\n\u001b[0;32m     12\u001b[0m \u001b[0mb\u001b[0m \u001b[1;33m=\u001b[0m \u001b[0mint\u001b[0m\u001b[1;33m(\u001b[0m\u001b[0minput\u001b[0m\u001b[1;33m(\u001b[0m\u001b[1;34m\"Enter b:\"\u001b[0m\u001b[1;33m)\u001b[0m\u001b[1;33m)\u001b[0m\u001b[1;33m\u001b[0m\u001b[1;33m\u001b[0m\u001b[0m\n\u001b[1;32m---> 13\u001b[1;33m \u001b[0mc\u001b[0m \u001b[1;33m=\u001b[0m \u001b[0ma\u001b[0m\u001b[1;33m/\u001b[0m\u001b[0mb\u001b[0m\u001b[1;33m\u001b[0m\u001b[1;33m\u001b[0m\u001b[0m\n\u001b[0m\u001b[0;32m     14\u001b[0m \u001b[0mprint\u001b[0m\u001b[1;33m(\u001b[0m\u001b[1;34m\"a/b = %d\"\u001b[0m \u001b[1;33m%\u001b[0m\u001b[0mc\u001b[0m\u001b[1;33m)\u001b[0m\u001b[1;33m\u001b[0m\u001b[1;33m\u001b[0m\u001b[0m\n\u001b[0;32m     15\u001b[0m \u001b[1;33m\u001b[0m\u001b[0m\n",
      "\u001b[1;31mZeroDivisionError\u001b[0m: division by zero"
     ]
    }
   ],
   "source": [
    "#Exception handling\n",
    "\n",
    "#An exception can be defined as an unusual condition in a program resulting in the interruption in the flow of the program.\n",
    "#Whenever an exception occurs, the program stops the execution, and thus the further code is not executed. \n",
    "#Therefore, an exception is the run-time errors that are unable to handle to Python script.\n",
    "#An exception is a Python object that represents an error\n",
    "\n",
    "\n",
    "#Exception are errors detected at the time of program execution\n",
    "\n",
    "a = int(input(\"Enter a:\"))    \n",
    "b = int(input(\"Enter b:\"))    \n",
    "c = a/b \n",
    "print(\"a/b = %d\" %c)    \n",
    "    \n",
    "#other code:    \n",
    "print(\"Hi I am other part of the program\") \n",
    "\n",
    "# OUTPUT(you give a=10 and b= 0 this normal state of condition so when the error detecte that is call exception)\n",
    "#Enter a:10\n",
    "#Enter b:0\n",
    "#Traceback (most recent call last):\n",
    "#  File \"exception-test.py\", line 3, in <module>\n",
    "#    c = a/b;\n",
    "#ZeroDivisionError: division by zero"
   ]
  },
  {
   "cell_type": "code",
   "execution_count": null,
   "id": "4afff80d",
   "metadata": {},
   "outputs": [],
   "source": []
  },
  {
   "cell_type": "code",
   "execution_count": null,
   "id": "5bd86287",
   "metadata": {},
   "outputs": [],
   "source": []
  },
  {
   "cell_type": "code",
   "execution_count": null,
   "id": "151bb459",
   "metadata": {},
   "outputs": [],
   "source": []
  }
 ],
 "metadata": {
  "kernelspec": {
   "display_name": "Python 3",
   "language": "python",
   "name": "python3"
  },
  "language_info": {
   "codemirror_mode": {
    "name": "ipython",
    "version": 3
   },
   "file_extension": ".py",
   "mimetype": "text/x-python",
   "name": "python",
   "nbconvert_exporter": "python",
   "pygments_lexer": "ipython3",
   "version": "3.8.8"
  }
 },
 "nbformat": 4,
 "nbformat_minor": 5
}
